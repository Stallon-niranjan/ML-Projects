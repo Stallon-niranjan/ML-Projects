{
 "cells": [
  {
   "cell_type": "code",
   "execution_count": 1,
   "metadata": {
    "collapsed": true
   },
   "outputs": [],
   "source": [
    "# Import necessary packages\n",
    "import h2o\n",
    "from h2o.estimators.gbm import H2OGradientBoostingEstimator\n",
    "from h2o.estimators.glm import H2OGeneralizedLinearEstimator"
   ]
  },
  {
   "cell_type": "code",
   "execution_count": 2,
   "metadata": {
    "collapsed": false,
    "scrolled": false
   },
   "outputs": [
    {
     "name": "stdout",
     "output_type": "stream",
     "text": [
      "Checking whether there is an H2O instance running at http://localhost:54321..... not found.\n",
      "Attempting to start a local H2O server...\n",
      "  Java Version: openjdk version \"1.8.0_121\"; OpenJDK Runtime Environment (Zulu 8.20.0.5-linux64) (build 1.8.0_121-b15); OpenJDK 64-Bit Server VM (Zulu 8.20.0.5-linux64) (build 25.121-b15, mixed mode)\n",
      "  Starting server from /home/niranjan/anaconda3/lib/python3.6/site-packages/h2o/backend/bin/h2o.jar\n",
      "  Ice root: /tmp/tmpvhmg_lbu\n",
      "  JVM stdout: /tmp/tmpvhmg_lbu/h2o_niranjan_started_from_python.out\n",
      "  JVM stderr: /tmp/tmpvhmg_lbu/h2o_niranjan_started_from_python.err\n",
      "  Server is running at http://127.0.0.1:54321\n",
      "Connecting to H2O server at http://127.0.0.1:54321... successful.\n"
     ]
    },
    {
     "data": {
      "text/html": [
       "<div style=\"overflow:auto\"><table style=\"width:50%\"><tr><td>H2O cluster uptime:</td>\n",
       "<td>15 secs</td></tr>\n",
       "<tr><td>H2O cluster timezone:</td>\n",
       "<td>Asia/Kolkata</td></tr>\n",
       "<tr><td>H2O data parsing timezone:</td>\n",
       "<td>UTC</td></tr>\n",
       "<tr><td>H2O cluster version:</td>\n",
       "<td>3.18.0.5</td></tr>\n",
       "<tr><td>H2O cluster version age:</td>\n",
       "<td>1 month and 10 days </td></tr>\n",
       "<tr><td>H2O cluster name:</td>\n",
       "<td>H2O_from_python_niranjan_djg29g</td></tr>\n",
       "<tr><td>H2O cluster total nodes:</td>\n",
       "<td>1</td></tr>\n",
       "<tr><td>H2O cluster free memory:</td>\n",
       "<td>3.450 Gb</td></tr>\n",
       "<tr><td>H2O cluster total cores:</td>\n",
       "<td>4</td></tr>\n",
       "<tr><td>H2O cluster allowed cores:</td>\n",
       "<td>4</td></tr>\n",
       "<tr><td>H2O cluster status:</td>\n",
       "<td>accepting new members, healthy</td></tr>\n",
       "<tr><td>H2O connection url:</td>\n",
       "<td>http://127.0.0.1:54321</td></tr>\n",
       "<tr><td>H2O connection proxy:</td>\n",
       "<td>None</td></tr>\n",
       "<tr><td>H2O internal security:</td>\n",
       "<td>False</td></tr>\n",
       "<tr><td>H2O API Extensions:</td>\n",
       "<td>XGBoost, Algos, AutoML, Core V3, Core V4</td></tr>\n",
       "<tr><td>Python version:</td>\n",
       "<td>3.6.0 final</td></tr></table></div>"
      ],
      "text/plain": [
       "--------------------------  ----------------------------------------\n",
       "H2O cluster uptime:         15 secs\n",
       "H2O cluster timezone:       Asia/Kolkata\n",
       "H2O data parsing timezone:  UTC\n",
       "H2O cluster version:        3.18.0.5\n",
       "H2O cluster version age:    1 month and 10 days\n",
       "H2O cluster name:           H2O_from_python_niranjan_djg29g\n",
       "H2O cluster total nodes:    1\n",
       "H2O cluster free memory:    3.450 Gb\n",
       "H2O cluster total cores:    4\n",
       "H2O cluster allowed cores:  4\n",
       "H2O cluster status:         accepting new members, healthy\n",
       "H2O connection url:         http://127.0.0.1:54321\n",
       "H2O connection proxy:\n",
       "H2O internal security:      False\n",
       "H2O API Extensions:         XGBoost, Algos, AutoML, Core V3, Core V4\n",
       "Python version:             3.6.0 final\n",
       "--------------------------  ----------------------------------------"
      ]
     },
     "metadata": {},
     "output_type": "display_data"
    }
   ],
   "source": [
    "# Initialize instance of H2O\n",
    "h2o.init()"
   ]
  },
  {
   "cell_type": "code",
   "execution_count": 3,
   "metadata": {
    "collapsed": true
   },
   "outputs": [],
   "source": [
    "# If possible download from the s3 link and change the path to the dataset\n",
    "path = \"http://h2o-public-test-data.s3.amazonaws.com/bigdata/laptop/lending-club/LoanStats3a.csv\""
   ]
  },
  {
   "cell_type": "code",
   "execution_count": 4,
   "metadata": {
    "collapsed": true
   },
   "outputs": [],
   "source": [
    "# Specify some column types to \"String\" that we want to munge later\n",
    "types = {\"int_rate\":\"string\", \"revol_util\":\"string\", \"emp_length\":\"string\", \"verification_status\":\"string\"}"
   ]
  },
  {
   "cell_type": "code",
   "execution_count": 5,
   "metadata": {
    "collapsed": false,
    "scrolled": true
   },
   "outputs": [
    {
     "name": "stdout",
     "output_type": "stream",
     "text": [
      "Parse progress: |█████████████████████████████████████████████████████████| 100%\n",
      "Rows:42538\n",
      "Cols:52\n",
      "\n",
      "\n"
     ]
    },
    {
     "data": {
      "text/html": [
       "<table>\n",
       "<thead>\n",
       "<tr><th>       </th><th>id                </th><th>member_id        </th><th>loan_amnt         </th><th>funded_amnt       </th><th>funded_amnt_inv   </th><th>term     </th><th>int_rate  </th><th>installment      </th><th>grade  </th><th>sub_grade  </th><th>emp_title                </th><th>emp_length  </th><th>home_ownership  </th><th>annual_inc       </th><th>verification_status     </th><th>issue_d            </th><th>loan_status  </th><th>pymnt_plan  </th><th>url                                                                 </th><th>desc                                                                                                                                                                                                                                                                                                                                                                                                                                                                                                                                                                                                        </th><th>purpose           </th><th>title                                </th><th>zip_code  </th><th>addr_state  </th><th>dti               </th><th>delinq_2yrs        </th><th>earliest_cr_line   </th><th>inq_last_6mths    </th><th>mths_since_last_delinq  </th><th>mths_since_last_record  </th><th>open_acc         </th><th>pub_rec            </th><th>revol_bal         </th><th>revol_util  </th><th>total_acc         </th><th>initial_list_status  </th><th>out_prncp         </th><th>out_prncp_inv     </th><th>total_pymnt       </th><th>total_pymnt_inv   </th><th>total_rec_prncp  </th><th>total_rec_int    </th><th>total_rec_late_fee  </th><th>recoveries       </th><th>collection_recovery_fee  </th><th>last_pymnt_d       </th><th>last_pymnt_amnt   </th><th>next_pymnt_d       </th><th>last_credit_pull_d  </th><th>collections_12_mths_ex_med  </th><th>mths_since_last_major_derog  </th><th>policy_code  </th></tr>\n",
       "</thead>\n",
       "<tbody>\n",
       "<tr><td>type   </td><td>int               </td><td>int              </td><td>int               </td><td>int               </td><td>real              </td><td>enum     </td><td>string    </td><td>real             </td><td>enum   </td><td>enum       </td><td>enum                     </td><td>string      </td><td>enum            </td><td>real             </td><td>string                  </td><td>time               </td><td>enum         </td><td>enum        </td><td>string                                                              </td><td>enum                                                                                                                                                                                                                                                                                                                                                                                                                                                                                                                                                                                                        </td><td>enum              </td><td>enum                                 </td><td>enum      </td><td>enum        </td><td>real              </td><td>int                </td><td>time               </td><td>int               </td><td>enum                    </td><td>enum                    </td><td>int              </td><td>int                </td><td>int               </td><td>string      </td><td>int               </td><td>enum                 </td><td>real              </td><td>real              </td><td>real              </td><td>real              </td><td>real             </td><td>real             </td><td>real                </td><td>real             </td><td>real                     </td><td>time               </td><td>real              </td><td>time               </td><td>time                </td><td>int                         </td><td>enum                         </td><td>int          </td></tr>\n",
       "<tr><td>mins   </td><td>54734.0           </td><td>70473.0          </td><td>500.0             </td><td>500.0             </td><td>0.0               </td><td>         </td><td>NaN       </td><td>15.67            </td><td>       </td><td>           </td><td>                         </td><td>NaN         </td><td>                </td><td>1896.0           </td><td>NaN                     </td><td>1180656000000.0    </td><td>             </td><td>            </td><td>NaN                                                                 </td><td>                                                                                                                                                                                                                                                                                                                                                                                                                                                                                                                                                                                                            </td><td>                  </td><td>                                     </td><td>          </td><td>            </td><td>0.0               </td><td>0.0                </td><td>-757382400000.0    </td><td>0.0               </td><td>                        </td><td>                        </td><td>1.0              </td><td>0.0                </td><td>0.0               </td><td>NaN         </td><td>1.0               </td><td>                     </td><td>0.0               </td><td>0.0               </td><td>0.0               </td><td>0.0               </td><td>0.0              </td><td>0.0              </td><td>0.0                 </td><td>0.0              </td><td>0.0                      </td><td>1196467200000.0    </td><td>0.0               </td><td>1196467200000.0    </td><td>1177977600000.0     </td><td>0.0                         </td><td>                             </td><td>1.0          </td></tr>\n",
       "<tr><td>mean   </td><td>664579.8523098631 </td><td>825702.5511696248</td><td>11089.722581403541</td><td>10821.585752909365</td><td>10139.830601160364</td><td>         </td><td>NaN       </td><td>322.62561866698  </td><td>       </td><td>           </td><td>                         </td><td>NaN         </td><td>                </td><td>69136.55642025825</td><td>NaN                     </td><td>1285641609930.648  </td><td>             </td><td>            </td><td>NaN                                                                 </td><td>                                                                                                                                                                                                                                                                                                                                                                                                                                                                                                                                                                                                            </td><td>                  </td><td>                                     </td><td>          </td><td>            </td><td>13.373043140942759</td><td>0.15244906601420968</td><td>854295612817.0143  </td><td>1.081423798993082 </td><td>                        </td><td>                        </td><td>9.343951442149336</td><td>0.05815649555356893</td><td>14297.86091454095 </td><td>NaN         </td><td>22.124405966216546</td><td>                     </td><td>329.41112354531555</td><td>327.0899654402251 </td><td>11651.753137029318</td><td>10948.580165745856</td><td>9368.080581873744</td><td>2209.049112025393</td><td>1.4587326863798291  </td><td>73.16471900701596</td><td>9.076818272012225        </td><td>1360320371318.195  </td><td>2552.6072568473037</td><td>1381323445229.343  </td><td>1385971917105.173   </td><td>0.0                         </td><td>                             </td><td>1.0          </td></tr>\n",
       "<tr><td>maxs   </td><td>1077501.0         </td><td>1314167.0        </td><td>35000.0           </td><td>35000.0           </td><td>35000.0           </td><td>         </td><td>NaN       </td><td>1305.19          </td><td>       </td><td>           </td><td>                         </td><td>NaN         </td><td>                </td><td>6000000.0        </td><td>NaN                     </td><td>1322697600000.0    </td><td>             </td><td>            </td><td>NaN                                                                 </td><td>                                                                                                                                                                                                                                                                                                                                                                                                                                                                                                                                                                                                            </td><td>                  </td><td>                                     </td><td>          </td><td>            </td><td>29.99             </td><td>13.0               </td><td>1225497600000.0    </td><td>33.0              </td><td>                        </td><td>                        </td><td>47.0             </td><td>5.0                </td><td>1207359.0         </td><td>NaN         </td><td>90.0              </td><td>                     </td><td>17749.51          </td><td>17749.51          </td><td>56809.05162878322 </td><td>56475.05          </td><td>35000.03         </td><td>21809.05         </td><td>208.819529958391    </td><td>29623.35         </td><td>7002.19                  </td><td>1433116800000.0    </td><td>36115.2           </td><td>1438387200000.0    </td><td>1435708800000.0     </td><td>0.0                         </td><td>                             </td><td>1.0          </td></tr>\n",
       "<tr><td>sigma  </td><td>219302.21931883905</td><td>279540.9056350489</td><td>7410.938390546601 </td><td>7146.914675006229 </td><td>7131.68644867631  </td><td>         </td><td>NaN       </td><td>208.9280690000803</td><td>       </td><td>           </td><td>                         </td><td>NaN         </td><td>                </td><td>64096.34971887441</td><td>NaN                     </td><td>31759283733.073658 </td><td>             </td><td>            </td><td>NaN                                                                 </td><td>                                                                                                                                                                                                                                                                                                                                                                                                                                                                                                                                                                                                            </td><td>                  </td><td>                                     </td><td>          </td><td>            </td><td>6.72631490173     </td><td>0.5124064850165571 </td><td>216068688522.35654 </td><td>1.5274548353027584</td><td>                        </td><td>                        </td><td>4.49627387569111 </td><td>0.2457131406505005 </td><td>22018.441009683225</td><td>NaN         </td><td>11.592811337332776</td><td>                     </td><td>1417.5456861321047</td><td>1409.6137334926425</td><td>8555.469899333262 </td><td>8486.9803940282   </td><td>6777.119818605452</td><td>2502.528240924457</td><td>7.572756175925984   </td><td>612.2601853504029</td><td>149.08682302572697       </td><td>47801906399.7347   </td><td>4380.384766172411 </td><td>69074077358.57875  </td><td>49253773579.30009   </td><td>0.0                         </td><td>                             </td><td>0.0          </td></tr>\n",
       "<tr><td>zeros  </td><td>0                 </td><td>0                </td><td>0                 </td><td>0                 </td><td>233               </td><td>         </td><td>0         </td><td>0                </td><td>       </td><td>           </td><td>                         </td><td>0           </td><td>                </td><td>0                </td><td>0                       </td><td>0                  </td><td>             </td><td>            </td><td>0                                                                   </td><td>                                                                                                                                                                                                                                                                                                                                                                                                                                                                                                                                                                                                            </td><td>                  </td><td>                                     </td><td>          </td><td>            </td><td>206               </td><td>37771              </td><td>4                  </td><td>19657             </td><td>                        </td><td>                        </td><td>0                </td><td>40130              </td><td>1119              </td><td>0           </td><td>0                 </td><td>                     </td><td>38972             </td><td>38972             </td><td>26                </td><td>304               </td><td>86               </td><td>83               </td><td>40214               </td><td>38357            </td><td>39033                    </td><td>0                  </td><td>95                </td><td>0                  </td><td>0                   </td><td>42390                       </td><td>                             </td><td>0            </td></tr>\n",
       "<tr><td>missing</td><td>3                 </td><td>3                </td><td>3                 </td><td>3                 </td><td>3                 </td><td>3        </td><td>3         </td><td>3                </td><td>3      </td><td>3          </td><td>3                        </td><td>3           </td><td>3               </td><td>7                </td><td>3                       </td><td>3                  </td><td>3            </td><td>3           </td><td>3                                                                   </td><td>3                                                                                                                                                                                                                                                                                                                                                                                                                                                                                                                                                                                                           </td><td>3                 </td><td>3                                    </td><td>3         </td><td>3           </td><td>3                 </td><td>32                 </td><td>32                 </td><td>32                </td><td>3                       </td><td>3                       </td><td>32               </td><td>32                 </td><td>3                 </td><td>3           </td><td>32                </td><td>3                    </td><td>3                 </td><td>3                 </td><td>3                 </td><td>3                 </td><td>3                </td><td>3                </td><td>3                   </td><td>3                </td><td>3                        </td><td>86                 </td><td>3                 </td><td>36281              </td><td>7                   </td><td>148                         </td><td>3                            </td><td>3            </td></tr>\n",
       "<tr><td>0      </td><td>1077501.0         </td><td>1296599.0        </td><td>5000.0            </td><td>5000.0            </td><td>4975.0            </td><td>36 months</td><td>10.65%    </td><td>162.87           </td><td>B      </td><td>B2         </td><td>                         </td><td>10+ years   </td><td>RENT            </td><td>24000.0          </td><td>VERIFIED - income       </td><td>2011-12-01 00:00:00</td><td>Fully Paid   </td><td>n           </td><td>https://www.lendingclub.com/browse/loanDetail.action?loan_id=1077501</td><td>Borrower added on 12/22/11 > I need to upgrade my business technologies.<br>                                                                                                                                                                                                                                                                                                                                                                                                                                                                                                                                </td><td>credit_card       </td><td>Computer                             </td><td>860xx     </td><td>AZ          </td><td>27.65             </td><td>0.0                </td><td>1985-01-01 00:00:00</td><td>1.0               </td><td>                        </td><td>                        </td><td>3.0              </td><td>0.0                </td><td>13648.0           </td><td>83.7%       </td><td>9.0               </td><td>f                    </td><td>0.0               </td><td>0.0               </td><td>5861.071414249    </td><td>5831.78           </td><td>5000.0           </td><td>861.07           </td><td>0.0                 </td><td>0.0              </td><td>0.0                      </td><td>2015-01-01 00:00:00</td><td>171.62            </td><td>                   </td><td>2015-01-01 00:00:00 </td><td>0.0                         </td><td>                             </td><td>1.0          </td></tr>\n",
       "<tr><td>1      </td><td>1077430.0         </td><td>1314167.0        </td><td>2500.0            </td><td>2500.0            </td><td>2500.0            </td><td>60 months</td><td>15.27%    </td><td>59.83            </td><td>C      </td><td>C4         </td><td>Ryder                    </td><td>< 1 year    </td><td>RENT            </td><td>30000.0          </td><td>VERIFIED - income source</td><td>2011-12-01 00:00:00</td><td>Charged Off  </td><td>n           </td><td>https://www.lendingclub.com/browse/loanDetail.action?loan_id=1077430</td><td>Borrower added on 12/22/11 > I plan to use this money to finance the motorcycle i am looking at. I plan to have it paid off as soon as possible/when i sell my old bike. I only need this money because the deal im looking at is to good to pass up.<br><br>  Borrower added on 12/22/11 > I plan to use this money to finance the motorcycle i am looking at. I plan to have it paid off as soon as possible/when i sell my old bike.I only need this money because the deal im looking at is to good to pass up. I have finished college with an associates degree in business and its takingmeplaces<br></td><td>car               </td><td>bike                                 </td><td>309xx     </td><td>GA          </td><td>1.0               </td><td>0.0                </td><td>1999-04-01 00:00:00</td><td>5.0               </td><td>                        </td><td>                        </td><td>3.0              </td><td>0.0                </td><td>1687.0            </td><td>9.4%        </td><td>4.0               </td><td>f                    </td><td>0.0               </td><td>0.0               </td><td>1008.71           </td><td>1008.71           </td><td>456.46           </td><td>435.17           </td><td>0.0                 </td><td>117.08           </td><td>1.11                     </td><td>2013-04-01 00:00:00</td><td>119.66            </td><td>                   </td><td>2013-09-01 00:00:00 </td><td>0.0                         </td><td>                             </td><td>1.0          </td></tr>\n",
       "<tr><td>2      </td><td>1077175.0         </td><td>1313524.0        </td><td>2400.0            </td><td>2400.0            </td><td>2400.0            </td><td>36 months</td><td>15.96%    </td><td>84.33            </td><td>C      </td><td>C5         </td><td>                         </td><td>10+ years   </td><td>RENT            </td><td>12252.0          </td><td>not verified            </td><td>2011-12-01 00:00:00</td><td>Fully Paid   </td><td>n           </td><td>https://www.lendingclub.com/browse/loanDetail.action?loan_id=1077175</td><td>                                                                                                                                                                                                                                                                                                                                                                                                                                                                                                                                                                                                            </td><td>small_business    </td><td>real estate business                 </td><td>606xx     </td><td>IL          </td><td>8.72              </td><td>0.0                </td><td>2001-11-01 00:00:00</td><td>2.0               </td><td>                        </td><td>                        </td><td>2.0              </td><td>0.0                </td><td>2956.0            </td><td>98.5%       </td><td>10.0              </td><td>f                    </td><td>0.0               </td><td>0.0               </td><td>3003.6536444505   </td><td>3003.65           </td><td>2400.0           </td><td>603.65           </td><td>0.0                 </td><td>0.0              </td><td>0.0                      </td><td>2014-06-01 00:00:00</td><td>649.91            </td><td>                   </td><td>2015-06-01 00:00:00 </td><td>0.0                         </td><td>                             </td><td>1.0          </td></tr>\n",
       "<tr><td>3      </td><td>1076863.0         </td><td>1277178.0        </td><td>10000.0           </td><td>10000.0           </td><td>10000.0           </td><td>36 months</td><td>13.49%    </td><td>339.31           </td><td>C      </td><td>C1         </td><td>AIR RESOURCES BOARD      </td><td>10+ years   </td><td>RENT            </td><td>49200.0          </td><td>VERIFIED - income source</td><td>2011-12-01 00:00:00</td><td>Fully Paid   </td><td>n           </td><td>https://www.lendingclub.com/browse/loanDetail.action?loan_id=1076863</td><td>Borrower added on 12/21/11 > to pay for property tax (borrow from friend, need to pay back) & central A/C need to be replace. I'm very sorry to let my loan expired last time.<br>                                                                                                                                                                                                                                                                                                                                                                                                                          </td><td>other             </td><td>personel                             </td><td>917xx     </td><td>CA          </td><td>20.0              </td><td>0.0                </td><td>1996-02-01 00:00:00</td><td>1.0               </td><td>35                      </td><td>                        </td><td>10.0             </td><td>0.0                </td><td>5598.0            </td><td>21%         </td><td>37.0              </td><td>f                    </td><td>0.0               </td><td>0.0               </td><td>12226.3022123092  </td><td>12226.3           </td><td>10000.0          </td><td>2209.33          </td><td>16.97               </td><td>0.0              </td><td>0.0                      </td><td>2015-01-01 00:00:00</td><td>357.48            </td><td>                   </td><td>2015-01-01 00:00:00 </td><td>0.0                         </td><td>                             </td><td>1.0          </td></tr>\n",
       "<tr><td>4      </td><td>1075358.0         </td><td>1311748.0        </td><td>3000.0            </td><td>3000.0            </td><td>3000.0            </td><td>60 months</td><td>12.69%    </td><td>67.79            </td><td>B      </td><td>B5         </td><td>University Medical Group </td><td>1 year      </td><td>RENT            </td><td>80000.0          </td><td>VERIFIED - income source</td><td>2011-12-01 00:00:00</td><td>Current      </td><td>n           </td><td>https://www.lendingclub.com/browse/loanDetail.action?loan_id=1075358</td><td>Borrower added on 12/21/11 > I plan on combining three large interest bills together and freeing up some extra each month to pay toward other bills.  I've always been a good payor but have found myself needing to make adjustments to my budget due to a medical scare. My job is very stable, I love it.<br>                                                                                                                                                                                                                                                                                            </td><td>other             </td><td>Personal                             </td><td>972xx     </td><td>OR          </td><td>17.94             </td><td>0.0                </td><td>1996-01-01 00:00:00</td><td>0.0               </td><td>38                      </td><td>                        </td><td>15.0             </td><td>0.0                </td><td>27783.0           </td><td>53.9%       </td><td>38.0              </td><td>f                    </td><td>1168.04           </td><td>1168.04           </td><td>2767.64           </td><td>2767.64           </td><td>1831.96          </td><td>935.68           </td><td>0.0                 </td><td>0.0              </td><td>0.0                      </td><td>2015-06-01 00:00:00</td><td>67.79             </td><td>2015-07-01 00:00:00</td><td>2015-06-01 00:00:00 </td><td>0.0                         </td><td>                             </td><td>1.0          </td></tr>\n",
       "<tr><td>5      </td><td>1075269.0         </td><td>1311441.0        </td><td>5000.0            </td><td>5000.0            </td><td>5000.0            </td><td>36 months</td><td>7.90%     </td><td>156.46           </td><td>A      </td><td>A4         </td><td>Veolia Transportaton     </td><td>3 years     </td><td>RENT            </td><td>36000.0          </td><td>VERIFIED - income source</td><td>2011-12-01 00:00:00</td><td>Fully Paid   </td><td>n           </td><td>https://www.lendingclub.com/browse/loanDetail.action?loan_id=1075269</td><td>                                                                                                                                                                                                                                                                                                                                                                                                                                                                                                                                                                                                            </td><td>wedding           </td><td>My wedding loan I promise to pay back</td><td>852xx     </td><td>AZ          </td><td>11.2              </td><td>0.0                </td><td>2004-11-01 00:00:00</td><td>3.0               </td><td>                        </td><td>                        </td><td>9.0              </td><td>0.0                </td><td>7963.0            </td><td>28.3%       </td><td>12.0              </td><td>f                    </td><td>0.0               </td><td>0.0               </td><td>5631.377753182701 </td><td>5631.38           </td><td>5000.0           </td><td>631.38           </td><td>0.0                 </td><td>0.0              </td><td>0.0                      </td><td>2015-01-01 00:00:00</td><td>161.03            </td><td>                   </td><td>2015-06-01 00:00:00 </td><td>0.0                         </td><td>                             </td><td>1.0          </td></tr>\n",
       "<tr><td>6      </td><td>1069639.0         </td><td>1304742.0        </td><td>7000.0            </td><td>7000.0            </td><td>7000.0            </td><td>60 months</td><td>15.96%    </td><td>170.08           </td><td>C      </td><td>C5         </td><td>Southern Star Photography</td><td>8 years     </td><td>RENT            </td><td>47004.0          </td><td>not verified            </td><td>2011-12-01 00:00:00</td><td>Current      </td><td>n           </td><td>https://www.lendingclub.com/browse/loanDetail.action?loan_id=1069639</td><td>Borrower added on 12/18/11 > I am planning on using the funds to pay off two retail credit cards with 24.99% interest rates, as well as a major bank credit card with a 18.99% rate.  I pay all my bills on time, looking for a lower combined payment and lower monthly payment.<br>                                                                                                                                                                                                                                                                                                                       </td><td>debt_consolidation</td><td>Loan                                 </td><td>280xx     </td><td>NC          </td><td>23.51             </td><td>0.0                </td><td>2005-07-01 00:00:00</td><td>1.0               </td><td>                        </td><td>                        </td><td>7.0              </td><td>0.0                </td><td>17726.0           </td><td>85.6%       </td><td>11.0              </td><td>f                    </td><td>2853.21           </td><td>2853.21           </td><td>6946.280000000006 </td><td>6946.28           </td><td>4146.8           </td><td>2799.48          </td><td>0.0                 </td><td>0.0              </td><td>0.0                      </td><td>2015-06-01 00:00:00</td><td>170.08            </td><td>2015-08-01 00:00:00</td><td>2015-06-01 00:00:00 </td><td>0.0                         </td><td>                             </td><td>1.0          </td></tr>\n",
       "<tr><td>7      </td><td>1072053.0         </td><td>1288686.0        </td><td>3000.0            </td><td>3000.0            </td><td>3000.0            </td><td>36 months</td><td>18.64%    </td><td>109.43           </td><td>E      </td><td>E1         </td><td>MKC Accounting           </td><td>9 years     </td><td>RENT            </td><td>48000.0          </td><td>VERIFIED - income source</td><td>2011-12-01 00:00:00</td><td>Fully Paid   </td><td>n           </td><td>https://www.lendingclub.com/browse/loanDetail.action?loan_id=1072053</td><td>Borrower added on 12/16/11 > Downpayment for a car.<br>                                                                                                                                                                                                                                                                                                                                                                                                                                                                                                                                                     </td><td>car               </td><td>Car Downpayment                      </td><td>900xx     </td><td>CA          </td><td>5.35              </td><td>0.0                </td><td>2007-01-01 00:00:00</td><td>2.0               </td><td>                        </td><td>                        </td><td>4.0              </td><td>0.0                </td><td>8221.0            </td><td>87.5%       </td><td>4.0               </td><td>f                    </td><td>0.0               </td><td>0.0               </td><td>3938.144333755098 </td><td>3938.14           </td><td>3000.0           </td><td>938.14           </td><td>0.0                 </td><td>0.0              </td><td>0.0                      </td><td>2015-01-01 00:00:00</td><td>111.34            </td><td>                   </td><td>2014-12-01 00:00:00 </td><td>0.0                         </td><td>                             </td><td>1.0          </td></tr>\n",
       "<tr><td>8      </td><td>1071795.0         </td><td>1306957.0        </td><td>5600.0            </td><td>5600.0            </td><td>5600.0            </td><td>60 months</td><td>21.28%    </td><td>152.39           </td><td>F      </td><td>F2         </td><td>                         </td><td>4 years     </td><td>OWN             </td><td>40000.0          </td><td>VERIFIED - income source</td><td>2011-12-01 00:00:00</td><td>Charged Off  </td><td>n           </td><td>https://www.lendingclub.com/browse/loanDetail.action?loan_id=1071795</td><td>Borrower added on 12/21/11 > I own a small home-based judgment collection business. I have 5 years experience collecting debts. I am now going from a home office to a small office. I also plan to buy a small debt portfolio (eg. $10K for $1M of debt) <br>My score is not A+ because I own my home and have no mortgage.<br>                                                                                                                                                                                                                                                                            </td><td>small_business    </td><td>Expand Business & Buy Debt Portfolio </td><td>958xx     </td><td>CA          </td><td>5.55              </td><td>0.0                </td><td>2004-04-01 00:00:00</td><td>2.0               </td><td>                        </td><td>                        </td><td>11.0             </td><td>0.0                </td><td>5210.0            </td><td>32.6%       </td><td>13.0              </td><td>f                    </td><td>0.0               </td><td>0.0               </td><td>646.02            </td><td>646.02            </td><td>162.02           </td><td>294.94           </td><td>0.0                 </td><td>189.06           </td><td>2.09                     </td><td>2012-04-01 00:00:00</td><td>152.39            </td><td>                   </td><td>2012-08-01 00:00:00 </td><td>0.0                         </td><td>                             </td><td>1.0          </td></tr>\n",
       "<tr><td>9      </td><td>1071570.0         </td><td>1306721.0        </td><td>5375.0            </td><td>5375.0            </td><td>5350.0            </td><td>60 months</td><td>12.69%    </td><td>121.45           </td><td>B      </td><td>B5         </td><td>Starbucks                </td><td>< 1 year    </td><td>RENT            </td><td>15000.0          </td><td>VERIFIED - income       </td><td>2011-12-01 00:00:00</td><td>Charged Off  </td><td>n           </td><td>https://www.lendingclub.com/browse/loanDetail.action?loan_id=1071570</td><td>Borrower added on 12/16/11 > I'm trying to build up my credit history. I live with my brother and have no car payment or credit cards. I am in community college and work full time. Im going to use the money to make some repairs around the house and get some maintenance done on my car.<br><br>  Borrower added on 12/20/11 > $1000 down only $4375 to go. Thanks to everyone that invested so far, looking forward to surprising my brother with the fixes around the house.<br>                                                                                                                     </td><td>other             </td><td>Building my credit history.          </td><td>774xx     </td><td>TX          </td><td>18.08             </td><td>0.0                </td><td>2004-09-01 00:00:00</td><td>0.0               </td><td>                        </td><td>                        </td><td>2.0              </td><td>0.0                </td><td>9279.0            </td><td>36.5%       </td><td>3.0               </td><td>f                    </td><td>0.0               </td><td>0.0               </td><td>1476.19           </td><td>1469.34           </td><td>673.48           </td><td>533.42           </td><td>0.0                 </td><td>269.29           </td><td>2.52                     </td><td>2012-11-01 00:00:00</td><td>121.45            </td><td>                   </td><td>2013-03-01 00:00:00 </td><td>0.0                         </td><td>                             </td><td>1.0          </td></tr>\n",
       "</tbody>\n",
       "</table>"
      ]
     },
     "metadata": {},
     "output_type": "display_data"
    }
   ],
   "source": [
    "# Task 1: Import the file and look at the frame\n",
    "loan_stats = h2o.import_file(path=path, col_types= types)\n",
    "loan_stats.describe()"
   ]
  },
  {
   "cell_type": "code",
   "execution_count": 6,
   "metadata": {
    "collapsed": false
   },
   "outputs": [
    {
     "data": {
      "text/html": [
       "<table>\n",
       "<thead>\n",
       "<tr><th>loan_status                                             </th><th style=\"text-align: right;\">  Count</th></tr>\n",
       "</thead>\n",
       "<tbody>\n",
       "<tr><td>Charged Off                                             </td><td style=\"text-align: right;\">   5435</td></tr>\n",
       "<tr><td>Current                                                 </td><td style=\"text-align: right;\">   3351</td></tr>\n",
       "<tr><td>Default                                                 </td><td style=\"text-align: right;\">      7</td></tr>\n",
       "<tr><td>Does not meet the credit policy.  Status:Charged Off    </td><td style=\"text-align: right;\">    761</td></tr>\n",
       "<tr><td>Does not meet the credit policy.  Status:Current        </td><td style=\"text-align: right;\">     53</td></tr>\n",
       "<tr><td>Does not meet the credit policy.  Status:Fully Paid     </td><td style=\"text-align: right;\">   1933</td></tr>\n",
       "<tr><td>Does not meet the credit policy.  Status:In Grace Period</td><td style=\"text-align: right;\">      2</td></tr>\n",
       "<tr><td>Fully Paid                                              </td><td style=\"text-align: right;\">  30843</td></tr>\n",
       "<tr><td>In Grace Period                                         </td><td style=\"text-align: right;\">     60</td></tr>\n",
       "<tr><td>Late (16-30 days)                                       </td><td style=\"text-align: right;\">     16</td></tr>\n",
       "</tbody>\n",
       "</table>"
      ]
     },
     "metadata": {},
     "output_type": "display_data"
    },
    {
     "data": {
      "text/plain": []
     },
     "execution_count": 6,
     "metadata": {},
     "output_type": "execute_result"
    }
   ],
   "source": [
    "# Task 2: Look at the levels int he response column, \"loan_status\"\n",
    "# Hint: Use .table() function on the response column\n",
    "loan_stats[\"loan_status\"].table()"
   ]
  },
  {
   "cell_type": "code",
   "execution_count": 7,
   "metadata": {
    "collapsed": false
   },
   "outputs": [],
   "source": [
    "# Task 3: Drop all loans that are still in progess and therefore cannot be deemed good/bad loans\n",
    "# Hint: \"Current\", \"In Grace Period\", \"Late (16-30 days)\", \"Late (31-120 days)\" are ongoing loans\n",
    "toremove = [\"Current\", \"In Grace Period\", \"Late (16-30 days)\", \"Late (31-120 days)\"]\n",
    "loan_stats = loan_stats[loan_stats[\"loan_status\"].isin(toremove).logical_negation(), :]"
   ]
  },
  {
   "cell_type": "code",
   "execution_count": 8,
   "metadata": {
    "collapsed": false
   },
   "outputs": [
    {
     "data": {
      "text/html": [
       "<table>\n",
       "<thead>\n",
       "<tr><th style=\"text-align: right;\">         id</th><th style=\"text-align: right;\">  member_id</th><th style=\"text-align: right;\">  loan_amnt</th><th style=\"text-align: right;\">  funded_amnt</th><th style=\"text-align: right;\">  funded_amnt_inv</th><th>term     </th><th>int_rate  </th><th style=\"text-align: right;\">  installment</th><th>grade  </th><th>sub_grade  </th><th>emp_title            </th><th>emp_length  </th><th>home_ownership  </th><th style=\"text-align: right;\">  annual_inc</th><th>verification_status     </th><th>issue_d            </th><th>loan_status  </th><th>pymnt_plan  </th><th>url                                                                 </th><th>desc                                                                                                                                                                                                                                                                                                                                                                                                                                                                                                                                                                                                        </th><th>purpose           </th><th>title                                </th><th>zip_code  </th><th>addr_state  </th><th style=\"text-align: right;\">  dti</th><th style=\"text-align: right;\">  delinq_2yrs</th><th>earliest_cr_line   </th><th style=\"text-align: right;\">  inq_last_6mths</th><th>mths_since_last_delinq  </th><th>mths_since_last_record  </th><th style=\"text-align: right;\">  open_acc</th><th style=\"text-align: right;\">  pub_rec</th><th style=\"text-align: right;\">  revol_bal</th><th>revol_util  </th><th style=\"text-align: right;\">  total_acc</th><th>initial_list_status  </th><th style=\"text-align: right;\">  out_prncp</th><th style=\"text-align: right;\">  out_prncp_inv</th><th style=\"text-align: right;\">  total_pymnt</th><th style=\"text-align: right;\">  total_pymnt_inv</th><th style=\"text-align: right;\">  total_rec_prncp</th><th style=\"text-align: right;\">  total_rec_int</th><th style=\"text-align: right;\">  total_rec_late_fee</th><th style=\"text-align: right;\">  recoveries</th><th style=\"text-align: right;\">  collection_recovery_fee</th><th>last_pymnt_d       </th><th style=\"text-align: right;\">  last_pymnt_amnt</th><th>next_pymnt_d  </th><th>last_credit_pull_d  </th><th style=\"text-align: right;\">  collections_12_mths_ex_med</th><th>mths_since_last_major_derog  </th><th style=\"text-align: right;\">  policy_code</th></tr>\n",
       "</thead>\n",
       "<tbody>\n",
       "<tr><td style=\"text-align: right;\">1.0775e+06 </td><td style=\"text-align: right;\">1.2966e+06 </td><td style=\"text-align: right;\">       5000</td><td style=\"text-align: right;\">         5000</td><td style=\"text-align: right;\">             4975</td><td>36 months</td><td>10.65%    </td><td style=\"text-align: right;\">       162.87</td><td>B      </td><td>B2         </td><td>                     </td><td>10+ years   </td><td>RENT            </td><td style=\"text-align: right;\">       24000</td><td>VERIFIED - income       </td><td>2011-12-01 00:00:00</td><td>Fully Paid   </td><td>n           </td><td>https://www.lendingclub.com/browse/loanDetail.action?loan_id=1077501</td><td>Borrower added on 12/22/11 > I need to upgrade my business technologies.<br>                                                                                                                                                                                                                                                                                                                                                                                                                                                                                                                                </td><td>credit_card       </td><td>Computer                             </td><td>860xx     </td><td>AZ          </td><td style=\"text-align: right;\">27.65</td><td style=\"text-align: right;\">            0</td><td>1985-01-01 00:00:00</td><td style=\"text-align: right;\">               1</td><td>                        </td><td>                        </td><td style=\"text-align: right;\">         3</td><td style=\"text-align: right;\">        0</td><td style=\"text-align: right;\">      13648</td><td>83.7%       </td><td style=\"text-align: right;\">          9</td><td>f                    </td><td style=\"text-align: right;\">          0</td><td style=\"text-align: right;\">              0</td><td style=\"text-align: right;\">      5861.07</td><td style=\"text-align: right;\">          5831.78</td><td style=\"text-align: right;\">          5000   </td><td style=\"text-align: right;\">         861.07</td><td style=\"text-align: right;\">                0   </td><td style=\"text-align: right;\">        0   </td><td style=\"text-align: right;\">                     0   </td><td>2015-01-01 00:00:00</td><td style=\"text-align: right;\">           171.62</td><td>              </td><td>2015-01-01 00:00:00 </td><td style=\"text-align: right;\">                           0</td><td>                             </td><td style=\"text-align: right;\">            1</td></tr>\n",
       "<tr><td style=\"text-align: right;\">1.07743e+06</td><td style=\"text-align: right;\">1.31417e+06</td><td style=\"text-align: right;\">       2500</td><td style=\"text-align: right;\">         2500</td><td style=\"text-align: right;\">             2500</td><td>60 months</td><td>15.27%    </td><td style=\"text-align: right;\">        59.83</td><td>C      </td><td>C4         </td><td>Ryder                </td><td>< 1 year    </td><td>RENT            </td><td style=\"text-align: right;\">       30000</td><td>VERIFIED - income source</td><td>2011-12-01 00:00:00</td><td>Charged Off  </td><td>n           </td><td>https://www.lendingclub.com/browse/loanDetail.action?loan_id=1077430</td><td>Borrower added on 12/22/11 > I plan to use this money to finance the motorcycle i am looking at. I plan to have it paid off as soon as possible/when i sell my old bike. I only need this money because the deal im looking at is to good to pass up.<br><br>  Borrower added on 12/22/11 > I plan to use this money to finance the motorcycle i am looking at. I plan to have it paid off as soon as possible/when i sell my old bike.I only need this money because the deal im looking at is to good to pass up. I have finished college with an associates degree in business and its takingmeplaces<br></td><td>car               </td><td>bike                                 </td><td>309xx     </td><td>GA          </td><td style=\"text-align: right;\"> 1   </td><td style=\"text-align: right;\">            0</td><td>1999-04-01 00:00:00</td><td style=\"text-align: right;\">               5</td><td>                        </td><td>                        </td><td style=\"text-align: right;\">         3</td><td style=\"text-align: right;\">        0</td><td style=\"text-align: right;\">       1687</td><td>9.4%        </td><td style=\"text-align: right;\">          4</td><td>f                    </td><td style=\"text-align: right;\">          0</td><td style=\"text-align: right;\">              0</td><td style=\"text-align: right;\">      1008.71</td><td style=\"text-align: right;\">          1008.71</td><td style=\"text-align: right;\">           456.46</td><td style=\"text-align: right;\">         435.17</td><td style=\"text-align: right;\">                0   </td><td style=\"text-align: right;\">      117.08</td><td style=\"text-align: right;\">                     1.11</td><td>2013-04-01 00:00:00</td><td style=\"text-align: right;\">           119.66</td><td>              </td><td>2013-09-01 00:00:00 </td><td style=\"text-align: right;\">                           0</td><td>                             </td><td style=\"text-align: right;\">            1</td></tr>\n",
       "<tr><td style=\"text-align: right;\">1.07718e+06</td><td style=\"text-align: right;\">1.31352e+06</td><td style=\"text-align: right;\">       2400</td><td style=\"text-align: right;\">         2400</td><td style=\"text-align: right;\">             2400</td><td>36 months</td><td>15.96%    </td><td style=\"text-align: right;\">        84.33</td><td>C      </td><td>C5         </td><td>                     </td><td>10+ years   </td><td>RENT            </td><td style=\"text-align: right;\">       12252</td><td>not verified            </td><td>2011-12-01 00:00:00</td><td>Fully Paid   </td><td>n           </td><td>https://www.lendingclub.com/browse/loanDetail.action?loan_id=1077175</td><td>                                                                                                                                                                                                                                                                                                                                                                                                                                                                                                                                                                                                            </td><td>small_business    </td><td>real estate business                 </td><td>606xx     </td><td>IL          </td><td style=\"text-align: right;\"> 8.72</td><td style=\"text-align: right;\">            0</td><td>2001-11-01 00:00:00</td><td style=\"text-align: right;\">               2</td><td>                        </td><td>                        </td><td style=\"text-align: right;\">         2</td><td style=\"text-align: right;\">        0</td><td style=\"text-align: right;\">       2956</td><td>98.5%       </td><td style=\"text-align: right;\">         10</td><td>f                    </td><td style=\"text-align: right;\">          0</td><td style=\"text-align: right;\">              0</td><td style=\"text-align: right;\">      3003.65</td><td style=\"text-align: right;\">          3003.65</td><td style=\"text-align: right;\">          2400   </td><td style=\"text-align: right;\">         603.65</td><td style=\"text-align: right;\">                0   </td><td style=\"text-align: right;\">        0   </td><td style=\"text-align: right;\">                     0   </td><td>2014-06-01 00:00:00</td><td style=\"text-align: right;\">           649.91</td><td>              </td><td>2015-06-01 00:00:00 </td><td style=\"text-align: right;\">                           0</td><td>                             </td><td style=\"text-align: right;\">            1</td></tr>\n",
       "<tr><td style=\"text-align: right;\">1.07686e+06</td><td style=\"text-align: right;\">1.27718e+06</td><td style=\"text-align: right;\">      10000</td><td style=\"text-align: right;\">        10000</td><td style=\"text-align: right;\">            10000</td><td>36 months</td><td>13.49%    </td><td style=\"text-align: right;\">       339.31</td><td>C      </td><td>C1         </td><td>AIR RESOURCES BOARD  </td><td>10+ years   </td><td>RENT            </td><td style=\"text-align: right;\">       49200</td><td>VERIFIED - income source</td><td>2011-12-01 00:00:00</td><td>Fully Paid   </td><td>n           </td><td>https://www.lendingclub.com/browse/loanDetail.action?loan_id=1076863</td><td>Borrower added on 12/21/11 > to pay for property tax (borrow from friend, need to pay back) & central A/C need to be replace. I'm very sorry to let my loan expired last time.<br>                                                                                                                                                                                                                                                                                                                                                                                                                          </td><td>other             </td><td>personel                             </td><td>917xx     </td><td>CA          </td><td style=\"text-align: right;\">20   </td><td style=\"text-align: right;\">            0</td><td>1996-02-01 00:00:00</td><td style=\"text-align: right;\">               1</td><td>35                      </td><td>                        </td><td style=\"text-align: right;\">        10</td><td style=\"text-align: right;\">        0</td><td style=\"text-align: right;\">       5598</td><td>21%         </td><td style=\"text-align: right;\">         37</td><td>f                    </td><td style=\"text-align: right;\">          0</td><td style=\"text-align: right;\">              0</td><td style=\"text-align: right;\">     12226.3 </td><td style=\"text-align: right;\">         12226.3 </td><td style=\"text-align: right;\">         10000   </td><td style=\"text-align: right;\">        2209.33</td><td style=\"text-align: right;\">               16.97</td><td style=\"text-align: right;\">        0   </td><td style=\"text-align: right;\">                     0   </td><td>2015-01-01 00:00:00</td><td style=\"text-align: right;\">           357.48</td><td>              </td><td>2015-01-01 00:00:00 </td><td style=\"text-align: right;\">                           0</td><td>                             </td><td style=\"text-align: right;\">            1</td></tr>\n",
       "<tr><td style=\"text-align: right;\">1.07527e+06</td><td style=\"text-align: right;\">1.31144e+06</td><td style=\"text-align: right;\">       5000</td><td style=\"text-align: right;\">         5000</td><td style=\"text-align: right;\">             5000</td><td>36 months</td><td>7.90%     </td><td style=\"text-align: right;\">       156.46</td><td>A      </td><td>A4         </td><td>Veolia Transportaton </td><td>3 years     </td><td>RENT            </td><td style=\"text-align: right;\">       36000</td><td>VERIFIED - income source</td><td>2011-12-01 00:00:00</td><td>Fully Paid   </td><td>n           </td><td>https://www.lendingclub.com/browse/loanDetail.action?loan_id=1075269</td><td>                                                                                                                                                                                                                                                                                                                                                                                                                                                                                                                                                                                                            </td><td>wedding           </td><td>My wedding loan I promise to pay back</td><td>852xx     </td><td>AZ          </td><td style=\"text-align: right;\">11.2 </td><td style=\"text-align: right;\">            0</td><td>2004-11-01 00:00:00</td><td style=\"text-align: right;\">               3</td><td>                        </td><td>                        </td><td style=\"text-align: right;\">         9</td><td style=\"text-align: right;\">        0</td><td style=\"text-align: right;\">       7963</td><td>28.3%       </td><td style=\"text-align: right;\">         12</td><td>f                    </td><td style=\"text-align: right;\">          0</td><td style=\"text-align: right;\">              0</td><td style=\"text-align: right;\">      5631.38</td><td style=\"text-align: right;\">          5631.38</td><td style=\"text-align: right;\">          5000   </td><td style=\"text-align: right;\">         631.38</td><td style=\"text-align: right;\">                0   </td><td style=\"text-align: right;\">        0   </td><td style=\"text-align: right;\">                     0   </td><td>2015-01-01 00:00:00</td><td style=\"text-align: right;\">           161.03</td><td>              </td><td>2015-06-01 00:00:00 </td><td style=\"text-align: right;\">                           0</td><td>                             </td><td style=\"text-align: right;\">            1</td></tr>\n",
       "<tr><td style=\"text-align: right;\">1.07205e+06</td><td style=\"text-align: right;\">1.28869e+06</td><td style=\"text-align: right;\">       3000</td><td style=\"text-align: right;\">         3000</td><td style=\"text-align: right;\">             3000</td><td>36 months</td><td>18.64%    </td><td style=\"text-align: right;\">       109.43</td><td>E      </td><td>E1         </td><td>MKC Accounting       </td><td>9 years     </td><td>RENT            </td><td style=\"text-align: right;\">       48000</td><td>VERIFIED - income source</td><td>2011-12-01 00:00:00</td><td>Fully Paid   </td><td>n           </td><td>https://www.lendingclub.com/browse/loanDetail.action?loan_id=1072053</td><td>Borrower added on 12/16/11 > Downpayment for a car.<br>                                                                                                                                                                                                                                                                                                                                                                                                                                                                                                                                                     </td><td>car               </td><td>Car Downpayment                      </td><td>900xx     </td><td>CA          </td><td style=\"text-align: right;\"> 5.35</td><td style=\"text-align: right;\">            0</td><td>2007-01-01 00:00:00</td><td style=\"text-align: right;\">               2</td><td>                        </td><td>                        </td><td style=\"text-align: right;\">         4</td><td style=\"text-align: right;\">        0</td><td style=\"text-align: right;\">       8221</td><td>87.5%       </td><td style=\"text-align: right;\">          4</td><td>f                    </td><td style=\"text-align: right;\">          0</td><td style=\"text-align: right;\">              0</td><td style=\"text-align: right;\">      3938.14</td><td style=\"text-align: right;\">          3938.14</td><td style=\"text-align: right;\">          3000   </td><td style=\"text-align: right;\">         938.14</td><td style=\"text-align: right;\">                0   </td><td style=\"text-align: right;\">        0   </td><td style=\"text-align: right;\">                     0   </td><td>2015-01-01 00:00:00</td><td style=\"text-align: right;\">           111.34</td><td>              </td><td>2014-12-01 00:00:00 </td><td style=\"text-align: right;\">                           0</td><td>                             </td><td style=\"text-align: right;\">            1</td></tr>\n",
       "<tr><td style=\"text-align: right;\">1.0718e+06 </td><td style=\"text-align: right;\">1.30696e+06</td><td style=\"text-align: right;\">       5600</td><td style=\"text-align: right;\">         5600</td><td style=\"text-align: right;\">             5600</td><td>60 months</td><td>21.28%    </td><td style=\"text-align: right;\">       152.39</td><td>F      </td><td>F2         </td><td>                     </td><td>4 years     </td><td>OWN             </td><td style=\"text-align: right;\">       40000</td><td>VERIFIED - income source</td><td>2011-12-01 00:00:00</td><td>Charged Off  </td><td>n           </td><td>https://www.lendingclub.com/browse/loanDetail.action?loan_id=1071795</td><td>Borrower added on 12/21/11 > I own a small home-based judgment collection business. I have 5 years experience collecting debts. I am now going from a home office to a small office. I also plan to buy a small debt portfolio (eg. $10K for $1M of debt) <br>My score is not A+ because I own my home and have no mortgage.<br>                                                                                                                                                                                                                                                                            </td><td>small_business    </td><td>Expand Business & Buy Debt Portfolio </td><td>958xx     </td><td>CA          </td><td style=\"text-align: right;\"> 5.55</td><td style=\"text-align: right;\">            0</td><td>2004-04-01 00:00:00</td><td style=\"text-align: right;\">               2</td><td>                        </td><td>                        </td><td style=\"text-align: right;\">        11</td><td style=\"text-align: right;\">        0</td><td style=\"text-align: right;\">       5210</td><td>32.6%       </td><td style=\"text-align: right;\">         13</td><td>f                    </td><td style=\"text-align: right;\">          0</td><td style=\"text-align: right;\">              0</td><td style=\"text-align: right;\">       646.02</td><td style=\"text-align: right;\">           646.02</td><td style=\"text-align: right;\">           162.02</td><td style=\"text-align: right;\">         294.94</td><td style=\"text-align: right;\">                0   </td><td style=\"text-align: right;\">      189.06</td><td style=\"text-align: right;\">                     2.09</td><td>2012-04-01 00:00:00</td><td style=\"text-align: right;\">           152.39</td><td>              </td><td>2012-08-01 00:00:00 </td><td style=\"text-align: right;\">                           0</td><td>                             </td><td style=\"text-align: right;\">            1</td></tr>\n",
       "<tr><td style=\"text-align: right;\">1.07157e+06</td><td style=\"text-align: right;\">1.30672e+06</td><td style=\"text-align: right;\">       5375</td><td style=\"text-align: right;\">         5375</td><td style=\"text-align: right;\">             5350</td><td>60 months</td><td>12.69%    </td><td style=\"text-align: right;\">       121.45</td><td>B      </td><td>B5         </td><td>Starbucks            </td><td>< 1 year    </td><td>RENT            </td><td style=\"text-align: right;\">       15000</td><td>VERIFIED - income       </td><td>2011-12-01 00:00:00</td><td>Charged Off  </td><td>n           </td><td>https://www.lendingclub.com/browse/loanDetail.action?loan_id=1071570</td><td>Borrower added on 12/16/11 > I'm trying to build up my credit history. I live with my brother and have no car payment or credit cards. I am in community college and work full time. Im going to use the money to make some repairs around the house and get some maintenance done on my car.<br><br>  Borrower added on 12/20/11 > $1000 down only $4375 to go. Thanks to everyone that invested so far, looking forward to surprising my brother with the fixes around the house.<br>                                                                                                                     </td><td>other             </td><td>Building my credit history.          </td><td>774xx     </td><td>TX          </td><td style=\"text-align: right;\">18.08</td><td style=\"text-align: right;\">            0</td><td>2004-09-01 00:00:00</td><td style=\"text-align: right;\">               0</td><td>                        </td><td>                        </td><td style=\"text-align: right;\">         2</td><td style=\"text-align: right;\">        0</td><td style=\"text-align: right;\">       9279</td><td>36.5%       </td><td style=\"text-align: right;\">          3</td><td>f                    </td><td style=\"text-align: right;\">          0</td><td style=\"text-align: right;\">              0</td><td style=\"text-align: right;\">      1476.19</td><td style=\"text-align: right;\">          1469.34</td><td style=\"text-align: right;\">           673.48</td><td style=\"text-align: right;\">         533.42</td><td style=\"text-align: right;\">                0   </td><td style=\"text-align: right;\">      269.29</td><td style=\"text-align: right;\">                     2.52</td><td>2012-11-01 00:00:00</td><td style=\"text-align: right;\">           121.45</td><td>              </td><td>2013-03-01 00:00:00 </td><td style=\"text-align: right;\">                           0</td><td>                             </td><td style=\"text-align: right;\">            1</td></tr>\n",
       "<tr><td style=\"text-align: right;\">1.07008e+06</td><td style=\"text-align: right;\">1.3052e+06 </td><td style=\"text-align: right;\">       6500</td><td style=\"text-align: right;\">         6500</td><td style=\"text-align: right;\">             6500</td><td>60 months</td><td>14.65%    </td><td style=\"text-align: right;\">       153.45</td><td>C      </td><td>C3         </td><td>Southwest Rural metro</td><td>5 years     </td><td>OWN             </td><td style=\"text-align: right;\">       72000</td><td>not verified            </td><td>2011-12-01 00:00:00</td><td>Fully Paid   </td><td>n           </td><td>https://www.lendingclub.com/browse/loanDetail.action?loan_id=1070078</td><td>Borrower added on 12/15/11 > I had recived a loan from Citi Financial about a year ago, I was paying 29.99 intrest, so the refinance is to cut that rate since cleaning up my credit I have been paying everything on time as shown on my credit report<br>                                                                                                                                                                                                                                                                                                                                                 </td><td>debt_consolidation</td><td>High intrest Consolidation           </td><td>853xx     </td><td>AZ          </td><td style=\"text-align: right;\">16.12</td><td style=\"text-align: right;\">            0</td><td>1998-01-01 00:00:00</td><td style=\"text-align: right;\">               2</td><td>                        </td><td>                        </td><td style=\"text-align: right;\">        14</td><td style=\"text-align: right;\">        0</td><td style=\"text-align: right;\">       4032</td><td>20.6%       </td><td style=\"text-align: right;\">         23</td><td>f                    </td><td style=\"text-align: right;\">          0</td><td style=\"text-align: right;\">              0</td><td style=\"text-align: right;\">      7677.52</td><td style=\"text-align: right;\">          7677.52</td><td style=\"text-align: right;\">          6500   </td><td style=\"text-align: right;\">        1177.52</td><td style=\"text-align: right;\">                0   </td><td style=\"text-align: right;\">        0   </td><td style=\"text-align: right;\">                     0   </td><td>2013-06-01 00:00:00</td><td style=\"text-align: right;\">          1655.54</td><td>              </td><td>2013-07-01 00:00:00 </td><td style=\"text-align: right;\">                           0</td><td>                             </td><td style=\"text-align: right;\">            1</td></tr>\n",
       "<tr><td style=\"text-align: right;\">1.06991e+06</td><td style=\"text-align: right;\">1.30501e+06</td><td style=\"text-align: right;\">      12000</td><td style=\"text-align: right;\">        12000</td><td style=\"text-align: right;\">            12000</td><td>36 months</td><td>12.69%    </td><td style=\"text-align: right;\">       402.54</td><td>B      </td><td>B5         </td><td>UCLA                 </td><td>10+ years   </td><td>OWN             </td><td style=\"text-align: right;\">       75000</td><td>VERIFIED - income source</td><td>2011-12-01 00:00:00</td><td>Fully Paid   </td><td>n           </td><td>https://www.lendingclub.com/browse/loanDetail.action?loan_id=1069908</td><td>                                                                                                                                                                                                                                                                                                                                                                                                                                                                                                                                                                                                            </td><td>debt_consolidation</td><td>Consolidation                        </td><td>913xx     </td><td>CA          </td><td style=\"text-align: right;\">10.78</td><td style=\"text-align: right;\">            0</td><td>1989-10-01 00:00:00</td><td style=\"text-align: right;\">               0</td><td>                        </td><td>                        </td><td style=\"text-align: right;\">        12</td><td style=\"text-align: right;\">        0</td><td style=\"text-align: right;\">      23336</td><td>67.1%       </td><td style=\"text-align: right;\">         34</td><td>f                    </td><td style=\"text-align: right;\">          0</td><td style=\"text-align: right;\">              0</td><td style=\"text-align: right;\">     13943.1 </td><td style=\"text-align: right;\">         13943.1 </td><td style=\"text-align: right;\">         12000   </td><td style=\"text-align: right;\">        1943.08</td><td style=\"text-align: right;\">                0   </td><td style=\"text-align: right;\">        0   </td><td style=\"text-align: right;\">                     0   </td><td>2013-09-01 00:00:00</td><td style=\"text-align: right;\">          6315.3 </td><td>              </td><td>2013-08-01 00:00:00 </td><td style=\"text-align: right;\">                           0</td><td>                             </td><td style=\"text-align: right;\">            1</td></tr>\n",
       "</tbody>\n",
       "</table>"
      ]
     },
     "metadata": {},
     "output_type": "display_data"
    }
   ],
   "source": [
    "loan_stats.show()"
   ]
  },
  {
   "cell_type": "code",
   "execution_count": 9,
   "metadata": {
    "collapsed": true
   },
   "outputs": [],
   "source": [
    "# Task 4: Bin the response variable to good/bad loans only, use your best judgement for what qualifies as a good/bad loan\n",
    "# Create a new column called \"bad_loan\" which should be a binary variable\n",
    "# Hint: You can turn the bad_loan columm into a factor using .asfactor()\n",
    "loan_stats[\"bad_loan\"] = (loan_stats[\"loan_status\"] == \"Fully Paid\").logical_negation()\n",
    "loan_stats[\"bad_loan\"] = loan_stats[\"bad_loan\"].asfactor()"
   ]
  },
  {
   "cell_type": "code",
   "execution_count": 10,
   "metadata": {
    "collapsed": false
   },
   "outputs": [
    {
     "data": {
      "text/html": [
       "<table>\n",
       "<thead>\n",
       "<tr><th style=\"text-align: right;\">  int_rate</th></tr>\n",
       "</thead>\n",
       "<tbody>\n",
       "<tr><td style=\"text-align: right;\">     10.65</td></tr>\n",
       "<tr><td style=\"text-align: right;\">     15.27</td></tr>\n",
       "<tr><td style=\"text-align: right;\">     15.96</td></tr>\n",
       "<tr><td style=\"text-align: right;\">     13.49</td></tr>\n",
       "<tr><td style=\"text-align: right;\">      7.9 </td></tr>\n",
       "<tr><td style=\"text-align: right;\">     18.64</td></tr>\n",
       "<tr><td style=\"text-align: right;\">     21.28</td></tr>\n",
       "<tr><td style=\"text-align: right;\">     12.69</td></tr>\n",
       "<tr><td style=\"text-align: right;\">     14.65</td></tr>\n",
       "<tr><td style=\"text-align: right;\">     12.69</td></tr>\n",
       "</tbody>\n",
       "</table>"
      ]
     },
     "metadata": {},
     "output_type": "display_data"
    }
   ],
   "source": [
    "# Task 5: String munging to clearn string columns before converting to numeric\n",
    "# Hint: Column that need munging include \"int_rate,\" \"revol_util,\" \"emp_length\"\n",
    "\n",
    "#### Example for int_rate using gsub, trim, asnumeric ####\n",
    "loan_stats[\"int_rate\"] = loan_stats[\"int_rate\"].gsub(pattern = \"%\", replacement = \"\") # strip %\n",
    "loan_stats[\"int_rate\"] = loan_stats[\"int_rate\"].trim() # trim ws\n",
    "loan_stats[\"int_rate\"] = loan_stats[\"int_rate\"].asnumeric() #change to a numeric \n",
    "loan_stats[\"int_rate\"].show()"
   ]
  },
  {
   "cell_type": "code",
   "execution_count": 11,
   "metadata": {
    "collapsed": false
   },
   "outputs": [
    {
     "data": {
      "text/html": [
       "<table>\n",
       "<thead>\n",
       "<tr><th style=\"text-align: right;\">  revol_util</th></tr>\n",
       "</thead>\n",
       "<tbody>\n",
       "<tr><td style=\"text-align: right;\">        83.7</td></tr>\n",
       "<tr><td style=\"text-align: right;\">         9.4</td></tr>\n",
       "<tr><td style=\"text-align: right;\">        98.5</td></tr>\n",
       "<tr><td style=\"text-align: right;\">        21  </td></tr>\n",
       "<tr><td style=\"text-align: right;\">        28.3</td></tr>\n",
       "<tr><td style=\"text-align: right;\">        87.5</td></tr>\n",
       "<tr><td style=\"text-align: right;\">        32.6</td></tr>\n",
       "<tr><td style=\"text-align: right;\">        36.5</td></tr>\n",
       "<tr><td style=\"text-align: right;\">        20.6</td></tr>\n",
       "<tr><td style=\"text-align: right;\">        67.1</td></tr>\n",
       "</tbody>\n",
       "</table>"
      ]
     },
     "metadata": {},
     "output_type": "display_data"
    }
   ],
   "source": [
    "# Now try for revol_util yourself\n",
    "loan_stats[\"revol_util\"] = loan_stats[\"revol_util\"].gsub(pattern = \"%\", replacement = \"\")\n",
    "loan_stats[\"revol_util\"] = loan_stats[\"revol_util\"].trim() \n",
    "loan_stats[\"revol_util\"] = loan_stats[\"revol_util\"].asnumeric() \n",
    "loan_stats[\"revol_util\"].show()"
   ]
  },
  {
   "cell_type": "code",
   "execution_count": 12,
   "metadata": {
    "collapsed": true
   },
   "outputs": [],
   "source": [
    "# Now we're going to clean up emp_length\n",
    "# Use gsub to remove \" year\" and \" years\" also translate n/a to \"\" \n",
    "loan_stats[\"emp_length\"] = loan_stats[\"emp_length\"].gsub(pattern = \"([ ]*+[a-zA-Z].*)|(n/a)\", \n",
    "                                              replacement = \"\") \n",
    "\n",
    "# Use trim to remove any trailing spaces \n",
    "loan_stats[\"emp_length\"] = loan_stats[\"emp_length\"].trim()"
   ]
  },
  {
   "cell_type": "code",
   "execution_count": 13,
   "metadata": {
    "collapsed": false
   },
   "outputs": [
    {
     "data": {
      "text/html": [
       "<table>\n",
       "<thead>\n",
       "<tr><th style=\"text-align: right;\">  emp_length</th></tr>\n",
       "</thead>\n",
       "<tbody>\n",
       "<tr><td style=\"text-align: right;\">          10</td></tr>\n",
       "<tr><td style=\"text-align: right;\">           0</td></tr>\n",
       "<tr><td style=\"text-align: right;\">          10</td></tr>\n",
       "<tr><td style=\"text-align: right;\">          10</td></tr>\n",
       "<tr><td style=\"text-align: right;\">           3</td></tr>\n",
       "<tr><td style=\"text-align: right;\">           9</td></tr>\n",
       "<tr><td style=\"text-align: right;\">           4</td></tr>\n",
       "<tr><td style=\"text-align: right;\">           0</td></tr>\n",
       "<tr><td style=\"text-align: right;\">           5</td></tr>\n",
       "<tr><td style=\"text-align: right;\">          10</td></tr>\n",
       "</tbody>\n",
       "</table>"
      ]
     },
     "metadata": {},
     "output_type": "display_data"
    }
   ],
   "source": [
    "# Use sub to convert < 1 to 0 years and do the same for 10 + to 10\n",
    "# Hint: Be mindful of spaces between characters\n",
    "loan_stats[\"emp_length\"] = loan_stats[\"emp_length\"].gsub(pattern = \"< 1\", replacement = \"0\")\n",
    "loan_stats[\"emp_length\"] = loan_stats[\"emp_length\"].gsub(pattern = \"10\\\\+\", replacement = \"10\")\n",
    "loan_stats[\"emp_length\"] = loan_stats[\"emp_length\"].asnumeric()\n",
    "loan_stats[\"emp_length\"].show()"
   ]
  },
  {
   "cell_type": "code",
   "execution_count": 14,
   "metadata": {
    "collapsed": false
   },
   "outputs": [
    {
     "data": {
      "text/html": [
       "<table>\n",
       "<thead>\n",
       "<tr><th style=\"text-align: right;\">  credit_length</th></tr>\n",
       "</thead>\n",
       "<tbody>\n",
       "<tr><td style=\"text-align: right;\">             26</td></tr>\n",
       "<tr><td style=\"text-align: right;\">             12</td></tr>\n",
       "<tr><td style=\"text-align: right;\">             10</td></tr>\n",
       "<tr><td style=\"text-align: right;\">             15</td></tr>\n",
       "<tr><td style=\"text-align: right;\">              7</td></tr>\n",
       "<tr><td style=\"text-align: right;\">              4</td></tr>\n",
       "<tr><td style=\"text-align: right;\">              7</td></tr>\n",
       "<tr><td style=\"text-align: right;\">              7</td></tr>\n",
       "<tr><td style=\"text-align: right;\">             13</td></tr>\n",
       "<tr><td style=\"text-align: right;\">             22</td></tr>\n",
       "</tbody>\n",
       "</table>"
      ]
     },
     "metadata": {},
     "output_type": "display_data"
    }
   ],
   "source": [
    "# Task 6: Create new column called credit_length\n",
    "# Hint: Do this by subtracting the earliest_cr year from the issue_d year\n",
    "loan_stats[\"credit_length\"] = loan_stats[\"issue_d\"].year() - loan_stats[\"earliest_cr_line\"].year()\n",
    "loan_stats[\"credit_length\"].show()"
   ]
  },
  {
   "cell_type": "code",
   "execution_count": 15,
   "metadata": {
    "collapsed": false,
    "scrolled": true
   },
   "outputs": [],
   "source": [
    "# Task 7: Use the sub function to create two levels from the verification_status column. Ie \"verified\" and \"not verified\"\n",
    "loan_stats[\"verification_status\"] = loan_stats[\"verification_status\"].sub(pattern = \"VERIFIED - income source\", \n",
    "                                                               replacement = \"verified\")\n",
    "loan_stats[\"verification_status\"] = loan_stats[\"verification_status\"].sub(pattern = \"VERIFIED - income\", \n",
    "                                                               replacement = \"verified\")\n",
    "loan_stats[\"verification_status\"] = loan_stats[\"verification_status\"].asfactor()"
   ]
  },
  {
   "cell_type": "code",
   "execution_count": 16,
   "metadata": {
    "collapsed": false
   },
   "outputs": [],
   "source": [
    "# Task 8: Do a test-train split (80-20)\n",
    "splits = loan_stats.split_frame(ratios = [0.80])\n",
    "train = splits[0]\n",
    "test  = splits[1]"
   ]
  },
  {
   "cell_type": "code",
   "execution_count": 17,
   "metadata": {
    "collapsed": true
   },
   "outputs": [],
   "source": [
    "# Task 9: Define your response and predictor variables \n",
    "y=\"bad_loan\"\n",
    "x=[\"loan_amnt\", \"term\", \"home_ownership\", \"annual_inc\", \"verification_status\", \"purpose\",\n",
    "   \"addr_state\", \"dti\", \"delinq_2yrs\", \"open_acc\", \"pub_rec\", \"revol_bal\", \"total_acc\",\n",
    "   \"emp_length\", \"credit_length\", \"inq_last_6mths\", \"revol_util\"]"
   ]
  },
  {
   "cell_type": "code",
   "execution_count": 18,
   "metadata": {
    "collapsed": true
   },
   "outputs": [],
   "source": [
    "# Task 10: Train GBM Model\n",
    "# Set parameters for GBM model \n",
    "from h2o.estimators.gbm import H2OGradientBoostingEstimator\n",
    "gbm_model = H2OGradientBoostingEstimator(model_id=\"GBM_BadLoan\",\n",
    "                                         score_each_iteration=True,\n",
    "                                         ntrees=100,\n",
    "                                         learn_rate=0.05)"
   ]
  },
  {
   "cell_type": "code",
   "execution_count": 19,
   "metadata": {
    "collapsed": false
   },
   "outputs": [
    {
     "name": "stdout",
     "output_type": "stream",
     "text": [
      "gbm Model Build progress: |███████████████████████████████████████████████| 100%\n"
     ]
    }
   ],
   "source": [
    "# Build your model\n",
    "gbm_model.train(x=x, y=y, training_frame=train, validation_frame=test)"
   ]
  },
  {
   "cell_type": "code",
   "execution_count": 20,
   "metadata": {
    "collapsed": false
   },
   "outputs": [
    {
     "data": {
      "image/png": "[encoded data removed]",
      "text/plain": [
       "<matplotlib.figure.Figure at 0x7fac52a81320>"
      ]
     },
     "metadata": {},
     "output_type": "display_data"
    }
   ],
   "source": [
    "# Task 11: Plot the scoring history to make sure you're not overfitting\n",
    "# Hint: Use plot function on the model object\n",
    "%matplotlib inline\n",
    "gbm_model.plot()"
   ]
  },
  {
   "cell_type": "code",
   "execution_count": 22,
   "metadata": {
    "collapsed": false
   },
   "outputs": [
    {
     "data": {
      "image/png": "[encoded data removed]",
      "text/plain": [
       "<matplotlib.figure.Figure at 0x7fac86d2bf98>"
      ]
     },
     "metadata": {},
     "output_type": "display_data"
    },
    {
     "data": {
      "image/png": "[encoded data removed]",
      "text/plain": [
       "<matplotlib.figure.Figure at 0x7fac500a0828>"
      ]
     },
     "metadata": {},
     "output_type": "display_data"
    },
    {
     "name": "stdout",
     "output_type": "stream",
     "text": [
      "Training AUC = 0.8327282908704382\n",
      "Validation AUC = 0.7908608197828122\n"
     ]
    }
   ],
   "source": [
    "# Task 12: Plot the ROC curve for the binomial models and get auc using h2o.auc\n",
    "# Hint: Use h2o.performance and plot to grab the modelmetrics and then plotting the modelmetrics\n",
    "\n",
    "gbm_model.model_performance(train = True).plot()\n",
    "gbm_model.model_performance(valid = True).plot()\n",
    "\n",
    "print(\"Training AUC = \" + str(gbm_model.auc(train = True)))\n",
    "print(\"Validation AUC = \" + str(gbm_model.auc(valid = True)))"
   ]
  },
  {
   "cell_type": "code",
   "execution_count": 23,
   "metadata": {
    "collapsed": false
   },
   "outputs": [
    {
     "name": "stdout",
     "output_type": "stream",
     "text": [
      "               variable  relative_importance  scaled_importance  percentage\n",
      "0        inq_last_6mths          8042.936523           1.000000    0.479369\n",
      "1            addr_state          1725.761963           0.214569    0.102857\n",
      "2                  term          1426.360474           0.177343    0.085013\n",
      "3            revol_util          1235.873657           0.153660    0.073660\n",
      "4         credit_length          1105.265381           0.137421    0.065875\n",
      "5             revol_bal           881.640991           0.109617    0.052547\n",
      "6               purpose           696.035278           0.086540    0.041485\n",
      "7            annual_inc           509.852203           0.063391    0.030388\n",
      "8             loan_amnt           233.616592           0.029046    0.013924\n",
      "9                   dti           206.174423           0.025634    0.012288\n",
      "10          delinq_2yrs           188.364563           0.023420    0.011227\n",
      "11              pub_rec           138.114594           0.017172    0.008232\n",
      "12            total_acc           131.660767           0.016370    0.007847\n",
      "13             open_acc           114.341560           0.014216    0.006815\n",
      "14           emp_length            57.125072           0.007103    0.003405\n",
      "15       home_ownership            54.374733           0.006761    0.003241\n",
      "16  verification_status            30.685268           0.003815    0.001829\n",
      "Confusion Matrix (Act/Pred) for max f1 @ threshold = 0.283643005327209: \n"
     ]
    },
    {
     "data": {
      "text/html": [
       "<div style=\"overflow:auto\"><table style=\"width:50%\"><tr><td><b></b></td>\n",
       "<td><b>0</b></td>\n",
       "<td><b>1</b></td>\n",
       "<td><b>Error</b></td>\n",
       "<td><b>Rate</b></td></tr>\n",
       "<tr><td>0</td>\n",
       "<td>5516.0</td>\n",
       "<td>628.0</td>\n",
       "<td>0.1022</td>\n",
       "<td> (628.0/6144.0)</td></tr>\n",
       "<tr><td>1</td>\n",
       "<td>808.0</td>\n",
       "<td>839.0</td>\n",
       "<td>0.4906</td>\n",
       "<td> (808.0/1647.0)</td></tr>\n",
       "<tr><td>Total</td>\n",
       "<td>6324.0</td>\n",
       "<td>1467.0</td>\n",
       "<td>0.1843</td>\n",
       "<td> (1436.0/7791.0)</td></tr></table></div>"
      ],
      "text/plain": [
       "       0     1     Error    Rate\n",
       "-----  ----  ----  -------  ---------------\n",
       "0      5516  628   0.1022   (628.0/6144.0)\n",
       "1      808   839   0.4906   (808.0/1647.0)\n",
       "Total  6324  1467  0.1843   (1436.0/7791.0)"
      ]
     },
     "metadata": {},
     "output_type": "display_data"
    },
    {
     "name": "stdout",
     "output_type": "stream",
     "text": [
      "\n"
     ]
    }
   ],
   "source": [
    "# Task 13: Check the variable importance and generate confusion matrix for max F1 threshold\n",
    "# Hint: Use h2o.varimp for non-GLM model and use h2o.confusionMatrix\n",
    "\n",
    "print (gbm_model.varimp(use_pandas = True))\n",
    "print (gbm_model.confusion_matrix(valid = True))"
   ]
  },
  {
   "cell_type": "code",
   "execution_count": 25,
   "metadata": {
    "collapsed": false
   },
   "outputs": [
    {
     "name": "stdout",
     "output_type": "stream",
     "text": [
      "gbm prediction progress: |████████████████████████████████████████████████| 100%\n"
     ]
    }
   ],
   "source": [
    "# Task 14: Score the entire data set using the model\n",
    "# Hint: Use h2o.predict.\n",
    "pred = gbm_model.predict(loan_stats)"
   ]
  },
  {
   "cell_type": "code",
   "execution_count": 26,
   "metadata": {
    "collapsed": true
   },
   "outputs": [],
   "source": [
    "# Extra: Calculate the money gain/loss if model is implemented\n",
    "# Calculate the total amount of money earned or lost per loan\n",
    "loan_stats[\"earned\"] = loan_stats[\"total_pymnt\"] - loan_stats[\"loan_amnt\"]"
   ]
  },
  {
   "cell_type": "code",
   "execution_count": 27,
   "metadata": {
    "collapsed": false
   },
   "outputs": [
    {
     "name": "stdout",
     "output_type": "stream",
     "text": [
      "Total amount of profit still earned using the model : $42,034,780\n",
      "Total amount of profit forfeitted using the model : $8,240,871\n",
      "Total amount of loss that could have been prevented : $-15,345,986\n",
      "Total amount of loss that still would've accrued : $-16,066,068\n",
      "Total profit by implementing model : $ $33,073,827\n"
     ]
    }
   ],
   "source": [
    "# Calculate how much money will be lost to false negative, vs how much will be saved due to true positives\n",
    "loan_stats[\"pred\"] = pred[\"predict\"]\n",
    "\n",
    "grouped = loan_stats.group_by([\"bad_loan\", \"pred\"])\n",
    "net = grouped.sum(col = \"earned\", na = \"ignore\").get_frame()\n",
    "\n",
    "n1 = net[(net[\"bad_loan\"] == \"0\") & (net[\"pred\"] == \"0\")][\"sum_earned\"].round(digits = 0).max()\n",
    "n2 = net[(net[\"bad_loan\"] == \"0\") & (net[\"pred\"] == \"1\")][\"sum_earned\"].round(digits = 0).max()\n",
    "n3 = net[(net[\"bad_loan\"] == \"1\") & (net[\"pred\"] == \"1\")][\"sum_earned\"].round(digits = 0).max()\n",
    "n4 = net[(net[\"bad_loan\"] == \"1\") & (net[\"pred\"] == \"0\")][\"sum_earned\"].round(digits = 0).max()\n",
    "\n",
    "# Calculate the amount earned\n",
    "print (\"Total amount of profit still earned using the model : %s\" % '${:0,.0f}'.format(n1))\n",
    "print (\"Total amount of profit forfeitted using the model : %s\" % '${:0,.0f}'.format(n2))\n",
    "print (\"Total amount of loss that could have been prevented : %s\" % '${:0,.0f}'.format(n3))\n",
    "print (\"Total amount of loss that still would've accrued : %s\" % '${:0,.0f}'.format(n4))\n",
    "\n",
    "# Calculate Net\n",
    "print (\"Total profit by implementing model : $ %s\" %'${:0,.0f}'.format((n1 - n2 + (-1*n3) - (-1*n4))))"
   ]
  },
  {
   "cell_type": "code",
   "execution_count": 28,
   "metadata": {
    "collapsed": false
   },
   "outputs": [
    {
     "name": "stdout",
     "output_type": "stream",
     "text": [
      "H2O session _sid_b6f0 closed.\n"
     ]
    }
   ],
   "source": [
    "# Shutdown h2o instance\n",
    "h2o.cluster().shutdown()"
   ]
  },
  {
   "cell_type": "code",
   "execution_count": null,
   "metadata": {
    "collapsed": true
   },
   "outputs": [],
   "source": []
  }
 ],
 "metadata": {
  "kernelspec": {
   "display_name": "Python 3",
   "language": "python",
   "name": "python3"
  },
  "language_info": {
   "codemirror_mode": {
    "name": "ipython",
    "version": 3
   },
   "file_extension": ".py",
   "mimetype": "text/x-python",
   "name": "python",
   "nbconvert_exporter": "python",
   "pygments_lexer": "ipython3",
   "version": "3.6.0"
  }
 },
 "nbformat": 4,
 "nbformat_minor": 0
}
